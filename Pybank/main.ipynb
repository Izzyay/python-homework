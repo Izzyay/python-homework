{
 "cells": [
  {
   "cell_type": "code",
   "execution_count": 3,
   "id": "d472c461-646b-41cb-876e-3fef5207db12",
   "metadata": {},
   "outputs": [
    {
     "name": "stdout",
     "output_type": "stream",
     "text": [
      "Financial Analysis\n",
      "----------------------\n",
      "Total Months: 86\n",
      "\n",
      "Total Profit/Losess: $38382578\n",
      "\n",
      "Average Change: $-2315.12\n",
      "Greatest increase in Profits: Feb-2012 ($1926159)\n",
      "Greatest decrease in Profits: Sep-2013 ($-2196167)\n"
     ]
    }
   ],
   "source": [
    "import os\n",
    "import csv\n",
    "\n",
    "budgetdata_csv = \"budget_data.csv\"\n",
    "totalMonth = 0\n",
    "totalProfit_Losses = 0\n",
    "previousProfit_Losses = 0\n",
    "Profit_Losses_change = 0\n",
    "ProfitLoss_change_list = []\n",
    "month_change = []\n",
    "greatestIncrease = 0\n",
    "greatestDecrease = 9999999999999999\n",
    "\n",
    "with open(budgetdata_csv) as profit_lossData:\n",
    "   reader = csv.DictReader(profit_lossData)\n",
    "   # loop through the data\n",
    "  \n",
    "   index=0\n",
    "   for row in reader:\n",
    "       if(index==0):\n",
    "           totalMonth+=1\n",
    "           totalProfit_Losses = totalProfit_Losses + int(row[\"Profit/Losses\"])\n",
    "           previousProfit_Losses = int(row[\"Profit/Losses\"])\n",
    "           month_change = month_change + [row[\"Date\"]]\n",
    "           index+=1\n",
    "           continue\n",
    "\n",
    "       # The total number of months included in the dataset\n",
    "\n",
    "       totalMonth = totalMonth + 1\n",
    "       # The net total amount of \"Profit/Losses\" over the entire period\n",
    "       totalProfit_Losses = totalProfit_Losses + int(row[\"Profit/Losses\"])\n",
    "       Profit_Losses_change = int(row[\"Profit/Losses\"]) - previousProfit_Losses\n",
    "       ProfitLoss_change_list.append(Profit_Losses_change)\n",
    "       previousProfit_Losses = int(row[\"Profit/Losses\"])\n",
    "       month_change = month_change + [row[\"Date\"]]\n",
    "      \n",
    "   greatestDecrease=min(ProfitLoss_change_list)\n",
    "   greatestIncrease=max(ProfitLoss_change_list)\n",
    "   # add 1 because month associated with change is the next month\n",
    "   greatestDecrease_month=ProfitLoss_change_list.index(greatestDecrease)+1\n",
    "   greatestIncrease_month=ProfitLoss_change_list.index(greatestIncrease)+1\n",
    "   print(\"Financial Analysis\")\n",
    "\n",
    "   print(\"----------------------\")\n",
    "\n",
    "   print(f\"Total Months: {totalMonth}\\n\")\n",
    "\n",
    "   print(f\"Total Profit/Losess: ${totalProfit_Losses}\\n\")\n",
    "\n",
    "   print(f\"Average Change: ${round(sum(ProfitLoss_change_list)/len(ProfitLoss_change_list),2)}\")\n",
    "\n",
    "   print(f\"Greatest increase in Profits: {month_change[greatestIncrease_month]} (${(str(greatestIncrease))})\")\n",
    "\n",
    "   print(f\"Greatest decrease in Profits: {month_change[greatestDecrease_month]} (${(str(greatestDecrease))})\")\n",
    "\n"
   ]
  },
  {
   "cell_type": "code",
   "execution_count": null,
   "id": "a708dbd8-df4d-44ac-971d-6086c8004953",
   "metadata": {},
   "outputs": [],
   "source": []
  }
 ],
 "metadata": {
  "kernelspec": {
   "display_name": "Python 3 (ipykernel)",
   "language": "python",
   "name": "python3"
  },
  "language_info": {
   "codemirror_mode": {
    "name": "ipython",
    "version": 3
   },
   "file_extension": ".py",
   "mimetype": "text/x-python",
   "name": "python",
   "nbconvert_exporter": "python",
   "pygments_lexer": "ipython3",
   "version": "3.9.7"
  }
 },
 "nbformat": 4,
 "nbformat_minor": 5
}
